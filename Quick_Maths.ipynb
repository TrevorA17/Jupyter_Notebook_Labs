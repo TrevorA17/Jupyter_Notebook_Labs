{
 "cells": [
  {
   "cell_type": "code",
   "execution_count": null,
   "id": "927aa760-0b32-4a6c-b479-4bec89a78b3a",
   "metadata": {},
   "outputs": [],
   "source": []
  }
 ],
 "metadata": {
  "kernelspec": {
   "display_name": "",
   "name": ""
  },
  "language_info": {
   "name": ""
  }
 },
 "nbformat": 4,
 "nbformat_minor": 5
}
