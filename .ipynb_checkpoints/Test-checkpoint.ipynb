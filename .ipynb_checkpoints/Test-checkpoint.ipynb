{
 "cells": [
  {
   "cell_type": "code",
   "execution_count": null,
   "id": "c61e052a-681a-44c2-8fd4-b9ff27d9f3cc",
   "metadata": {},
   "outputs": [],
   "source": [
    "import sqlite3\n",
    "import pandas as pd\n",
    "\n",
    "# Path to your database\n",
    "db_path = r\"C:\\Users\\Trevor\\Documents\\dumps\\chinook.db\"\n",
    "\n",
    "# Connect to the SQLite database\n",
    "conn = sqlite3.connect(db_path)\n",
    "\n",
    "# Show all tables\n",
    "tables = pd.read_sql_query(\n",
    "    \"SELECT name FROM sqlite_master WHERE type='table';\",\n",
    "    conn\n",
    ")\n",
    "print(\"Tables in the database:\")\n",
    "print(tables)\n",
    "\n",
    "# # Example: load a table (replace Albums with any table name you see)\n",
    "# df = pd.read_sql_query(\"SELECT * FROM Albums LIMIT 5;\", conn)\n",
    "# df\n"
   ]
  }
 ],
 "metadata": {
  "kernelspec": {
   "display_name": "Python (SQL_Packages)",
   "language": "python",
   "name": "sql_packages"
  },
  "language_info": {
   "codemirror_mode": {
    "name": "ipython",
    "version": 3
   },
   "file_extension": ".py",
   "mimetype": "text/x-python",
   "name": "python",
   "nbconvert_exporter": "python",
   "pygments_lexer": "ipython3",
   "version": "3.13.7"
  }
 },
 "nbformat": 4,
 "nbformat_minor": 5
}
